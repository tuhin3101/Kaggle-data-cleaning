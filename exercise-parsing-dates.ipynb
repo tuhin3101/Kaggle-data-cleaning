{
 "cells": [
  {
   "cell_type": "markdown",
   "id": "47d15d45",
   "metadata": {
    "papermill": {
     "duration": 0.008973,
     "end_time": "2023-03-31T07:19:34.773150",
     "exception": false,
     "start_time": "2023-03-31T07:19:34.764177",
     "status": "completed"
    },
    "tags": []
   },
   "source": [
    "**This notebook is an exercise in the [Data Cleaning](https://www.kaggle.com/learn/data-cleaning) course.  You can reference the tutorial at [this link](https://www.kaggle.com/alexisbcook/parsing-dates).**\n",
    "\n",
    "---\n"
   ]
  },
  {
   "cell_type": "markdown",
   "id": "e017c8d1",
   "metadata": {
    "papermill": {
     "duration": 0.007469,
     "end_time": "2023-03-31T07:19:34.788593",
     "exception": false,
     "start_time": "2023-03-31T07:19:34.781124",
     "status": "completed"
    },
    "tags": []
   },
   "source": [
    "In this exercise, you'll apply what you learned in the **Parsing dates** tutorial.\n",
    "\n",
    "# Setup\n",
    "\n",
    "The questions below will give you feedback on your work. Run the following cell to set up the feedback system."
   ]
  },
  {
   "cell_type": "code",
   "execution_count": 1,
   "id": "a6a3658b",
   "metadata": {
    "execution": {
     "iopub.execute_input": "2023-03-31T07:19:34.806411Z",
     "iopub.status.busy": "2023-03-31T07:19:34.805997Z",
     "iopub.status.idle": "2023-03-31T07:19:36.155323Z",
     "shell.execute_reply": "2023-03-31T07:19:36.154008Z"
    },
    "papermill": {
     "duration": 1.36255,
     "end_time": "2023-03-31T07:19:36.159177",
     "exception": false,
     "start_time": "2023-03-31T07:19:34.796627",
     "status": "completed"
    },
    "tags": []
   },
   "outputs": [
    {
     "name": "stdout",
     "output_type": "stream",
     "text": [
      "Setup Complete\n"
     ]
    }
   ],
   "source": [
    "from learntools.core import binder\n",
    "binder.bind(globals())\n",
    "from learntools.data_cleaning.ex3 import *\n",
    "print(\"Setup Complete\")"
   ]
  },
  {
   "cell_type": "markdown",
   "id": "85d8c3fb",
   "metadata": {
    "papermill": {
     "duration": 0.007432,
     "end_time": "2023-03-31T07:19:36.175308",
     "exception": false,
     "start_time": "2023-03-31T07:19:36.167876",
     "status": "completed"
    },
    "tags": []
   },
   "source": [
    "# Get our environment set up\n",
    "\n",
    "The first thing we'll need to do is load in the libraries and dataset we'll be using. We'll be working with a dataset containing information on earthquakes that occured between 1965 and 2016."
   ]
  },
  {
   "cell_type": "code",
   "execution_count": 2,
   "id": "3e0a8474",
   "metadata": {
    "execution": {
     "iopub.execute_input": "2023-03-31T07:19:36.192937Z",
     "iopub.status.busy": "2023-03-31T07:19:36.192447Z",
     "iopub.status.idle": "2023-03-31T07:19:36.272212Z",
     "shell.execute_reply": "2023-03-31T07:19:36.271007Z"
    },
    "papermill": {
     "duration": 0.091837,
     "end_time": "2023-03-31T07:19:36.274928",
     "exception": false,
     "start_time": "2023-03-31T07:19:36.183091",
     "status": "completed"
    },
    "tags": []
   },
   "outputs": [],
   "source": [
    "# modules we'll use\n",
    "import pandas as pd\n",
    "import numpy as np\n",
    "import seaborn as sns\n",
    "import datetime\n",
    "\n",
    "# read in our data\n",
    "earthquakes = pd.read_csv(\"../input/earthquake-database/database.csv\")\n",
    "\n",
    "# set seed for reproducibility\n",
    "np.random.seed(0)"
   ]
  },
  {
   "cell_type": "markdown",
   "id": "be3ebeec",
   "metadata": {
    "papermill": {
     "duration": 0.007582,
     "end_time": "2023-03-31T07:19:36.290764",
     "exception": false,
     "start_time": "2023-03-31T07:19:36.283182",
     "status": "completed"
    },
    "tags": []
   },
   "source": [
    "# 1) Check the data type of our date column\n",
    "\n",
    "You'll be working with the \"Date\" column from the `earthquakes` dataframe.  Investigate this column now: does it look like it contains dates?  What is the dtype of the column?"
   ]
  },
  {
   "cell_type": "code",
   "execution_count": 3,
   "id": "6d5fcd97",
   "metadata": {
    "execution": {
     "iopub.execute_input": "2023-03-31T07:19:36.308442Z",
     "iopub.status.busy": "2023-03-31T07:19:36.308012Z",
     "iopub.status.idle": "2023-03-31T07:19:36.347741Z",
     "shell.execute_reply": "2023-03-31T07:19:36.346496Z"
    },
    "papermill": {
     "duration": 0.051461,
     "end_time": "2023-03-31T07:19:36.350082",
     "exception": false,
     "start_time": "2023-03-31T07:19:36.298621",
     "status": "completed"
    },
    "tags": []
   },
   "outputs": [
    {
     "data": {
      "text/html": [
       "<div>\n",
       "<style scoped>\n",
       "    .dataframe tbody tr th:only-of-type {\n",
       "        vertical-align: middle;\n",
       "    }\n",
       "\n",
       "    .dataframe tbody tr th {\n",
       "        vertical-align: top;\n",
       "    }\n",
       "\n",
       "    .dataframe thead th {\n",
       "        text-align: right;\n",
       "    }\n",
       "</style>\n",
       "<table border=\"1\" class=\"dataframe\">\n",
       "  <thead>\n",
       "    <tr style=\"text-align: right;\">\n",
       "      <th></th>\n",
       "      <th>Date</th>\n",
       "      <th>Time</th>\n",
       "      <th>Latitude</th>\n",
       "      <th>Longitude</th>\n",
       "      <th>Type</th>\n",
       "      <th>Depth</th>\n",
       "      <th>Depth Error</th>\n",
       "      <th>Depth Seismic Stations</th>\n",
       "      <th>Magnitude</th>\n",
       "      <th>Magnitude Type</th>\n",
       "      <th>...</th>\n",
       "      <th>Magnitude Seismic Stations</th>\n",
       "      <th>Azimuthal Gap</th>\n",
       "      <th>Horizontal Distance</th>\n",
       "      <th>Horizontal Error</th>\n",
       "      <th>Root Mean Square</th>\n",
       "      <th>ID</th>\n",
       "      <th>Source</th>\n",
       "      <th>Location Source</th>\n",
       "      <th>Magnitude Source</th>\n",
       "      <th>Status</th>\n",
       "    </tr>\n",
       "  </thead>\n",
       "  <tbody>\n",
       "    <tr>\n",
       "      <th>0</th>\n",
       "      <td>01/02/1965</td>\n",
       "      <td>13:44:18</td>\n",
       "      <td>19.246</td>\n",
       "      <td>145.616</td>\n",
       "      <td>Earthquake</td>\n",
       "      <td>131.6</td>\n",
       "      <td>NaN</td>\n",
       "      <td>NaN</td>\n",
       "      <td>6.0</td>\n",
       "      <td>MW</td>\n",
       "      <td>...</td>\n",
       "      <td>NaN</td>\n",
       "      <td>NaN</td>\n",
       "      <td>NaN</td>\n",
       "      <td>NaN</td>\n",
       "      <td>NaN</td>\n",
       "      <td>ISCGEM860706</td>\n",
       "      <td>ISCGEM</td>\n",
       "      <td>ISCGEM</td>\n",
       "      <td>ISCGEM</td>\n",
       "      <td>Automatic</td>\n",
       "    </tr>\n",
       "    <tr>\n",
       "      <th>1</th>\n",
       "      <td>01/04/1965</td>\n",
       "      <td>11:29:49</td>\n",
       "      <td>1.863</td>\n",
       "      <td>127.352</td>\n",
       "      <td>Earthquake</td>\n",
       "      <td>80.0</td>\n",
       "      <td>NaN</td>\n",
       "      <td>NaN</td>\n",
       "      <td>5.8</td>\n",
       "      <td>MW</td>\n",
       "      <td>...</td>\n",
       "      <td>NaN</td>\n",
       "      <td>NaN</td>\n",
       "      <td>NaN</td>\n",
       "      <td>NaN</td>\n",
       "      <td>NaN</td>\n",
       "      <td>ISCGEM860737</td>\n",
       "      <td>ISCGEM</td>\n",
       "      <td>ISCGEM</td>\n",
       "      <td>ISCGEM</td>\n",
       "      <td>Automatic</td>\n",
       "    </tr>\n",
       "    <tr>\n",
       "      <th>2</th>\n",
       "      <td>01/05/1965</td>\n",
       "      <td>18:05:58</td>\n",
       "      <td>-20.579</td>\n",
       "      <td>-173.972</td>\n",
       "      <td>Earthquake</td>\n",
       "      <td>20.0</td>\n",
       "      <td>NaN</td>\n",
       "      <td>NaN</td>\n",
       "      <td>6.2</td>\n",
       "      <td>MW</td>\n",
       "      <td>...</td>\n",
       "      <td>NaN</td>\n",
       "      <td>NaN</td>\n",
       "      <td>NaN</td>\n",
       "      <td>NaN</td>\n",
       "      <td>NaN</td>\n",
       "      <td>ISCGEM860762</td>\n",
       "      <td>ISCGEM</td>\n",
       "      <td>ISCGEM</td>\n",
       "      <td>ISCGEM</td>\n",
       "      <td>Automatic</td>\n",
       "    </tr>\n",
       "    <tr>\n",
       "      <th>3</th>\n",
       "      <td>01/08/1965</td>\n",
       "      <td>18:49:43</td>\n",
       "      <td>-59.076</td>\n",
       "      <td>-23.557</td>\n",
       "      <td>Earthquake</td>\n",
       "      <td>15.0</td>\n",
       "      <td>NaN</td>\n",
       "      <td>NaN</td>\n",
       "      <td>5.8</td>\n",
       "      <td>MW</td>\n",
       "      <td>...</td>\n",
       "      <td>NaN</td>\n",
       "      <td>NaN</td>\n",
       "      <td>NaN</td>\n",
       "      <td>NaN</td>\n",
       "      <td>NaN</td>\n",
       "      <td>ISCGEM860856</td>\n",
       "      <td>ISCGEM</td>\n",
       "      <td>ISCGEM</td>\n",
       "      <td>ISCGEM</td>\n",
       "      <td>Automatic</td>\n",
       "    </tr>\n",
       "    <tr>\n",
       "      <th>4</th>\n",
       "      <td>01/09/1965</td>\n",
       "      <td>13:32:50</td>\n",
       "      <td>11.938</td>\n",
       "      <td>126.427</td>\n",
       "      <td>Earthquake</td>\n",
       "      <td>15.0</td>\n",
       "      <td>NaN</td>\n",
       "      <td>NaN</td>\n",
       "      <td>5.8</td>\n",
       "      <td>MW</td>\n",
       "      <td>...</td>\n",
       "      <td>NaN</td>\n",
       "      <td>NaN</td>\n",
       "      <td>NaN</td>\n",
       "      <td>NaN</td>\n",
       "      <td>NaN</td>\n",
       "      <td>ISCGEM860890</td>\n",
       "      <td>ISCGEM</td>\n",
       "      <td>ISCGEM</td>\n",
       "      <td>ISCGEM</td>\n",
       "      <td>Automatic</td>\n",
       "    </tr>\n",
       "  </tbody>\n",
       "</table>\n",
       "<p>5 rows × 21 columns</p>\n",
       "</div>"
      ],
      "text/plain": [
       "         Date      Time  Latitude  Longitude        Type  Depth  Depth Error  \\\n",
       "0  01/02/1965  13:44:18    19.246    145.616  Earthquake  131.6          NaN   \n",
       "1  01/04/1965  11:29:49     1.863    127.352  Earthquake   80.0          NaN   \n",
       "2  01/05/1965  18:05:58   -20.579   -173.972  Earthquake   20.0          NaN   \n",
       "3  01/08/1965  18:49:43   -59.076    -23.557  Earthquake   15.0          NaN   \n",
       "4  01/09/1965  13:32:50    11.938    126.427  Earthquake   15.0          NaN   \n",
       "\n",
       "   Depth Seismic Stations  Magnitude Magnitude Type  ...  \\\n",
       "0                     NaN        6.0             MW  ...   \n",
       "1                     NaN        5.8             MW  ...   \n",
       "2                     NaN        6.2             MW  ...   \n",
       "3                     NaN        5.8             MW  ...   \n",
       "4                     NaN        5.8             MW  ...   \n",
       "\n",
       "   Magnitude Seismic Stations  Azimuthal Gap  Horizontal Distance  \\\n",
       "0                         NaN            NaN                  NaN   \n",
       "1                         NaN            NaN                  NaN   \n",
       "2                         NaN            NaN                  NaN   \n",
       "3                         NaN            NaN                  NaN   \n",
       "4                         NaN            NaN                  NaN   \n",
       "\n",
       "   Horizontal Error  Root Mean Square            ID  Source Location Source  \\\n",
       "0               NaN               NaN  ISCGEM860706  ISCGEM          ISCGEM   \n",
       "1               NaN               NaN  ISCGEM860737  ISCGEM          ISCGEM   \n",
       "2               NaN               NaN  ISCGEM860762  ISCGEM          ISCGEM   \n",
       "3               NaN               NaN  ISCGEM860856  ISCGEM          ISCGEM   \n",
       "4               NaN               NaN  ISCGEM860890  ISCGEM          ISCGEM   \n",
       "\n",
       "  Magnitude Source     Status  \n",
       "0           ISCGEM  Automatic  \n",
       "1           ISCGEM  Automatic  \n",
       "2           ISCGEM  Automatic  \n",
       "3           ISCGEM  Automatic  \n",
       "4           ISCGEM  Automatic  \n",
       "\n",
       "[5 rows x 21 columns]"
      ]
     },
     "execution_count": 3,
     "metadata": {},
     "output_type": "execute_result"
    }
   ],
   "source": [
    "earthquakes.head()"
   ]
  },
  {
   "cell_type": "code",
   "execution_count": 4,
   "id": "5dd485d8",
   "metadata": {
    "execution": {
     "iopub.execute_input": "2023-03-31T07:19:36.369898Z",
     "iopub.status.busy": "2023-03-31T07:19:36.369470Z",
     "iopub.status.idle": "2023-03-31T07:19:36.377228Z",
     "shell.execute_reply": "2023-03-31T07:19:36.375956Z"
    },
    "papermill": {
     "duration": 0.02033,
     "end_time": "2023-03-31T07:19:36.379726",
     "exception": false,
     "start_time": "2023-03-31T07:19:36.359396",
     "status": "completed"
    },
    "tags": []
   },
   "outputs": [
    {
     "data": {
      "text/plain": [
       "dtype('O')"
      ]
     },
     "execution_count": 4,
     "metadata": {},
     "output_type": "execute_result"
    }
   ],
   "source": [
    "# TODO: Your code here!\n",
    "earthquakes.Date.dtype"
   ]
  },
  {
   "cell_type": "markdown",
   "id": "b41b9397",
   "metadata": {
    "papermill": {
     "duration": 0.008274,
     "end_time": "2023-03-31T07:19:36.396406",
     "exception": false,
     "start_time": "2023-03-31T07:19:36.388132",
     "status": "completed"
    },
    "tags": []
   },
   "source": [
    "Once you have answered the question above, run the code cell below to get credit for your work."
   ]
  },
  {
   "cell_type": "code",
   "execution_count": 5,
   "id": "d519cf5b",
   "metadata": {
    "execution": {
     "iopub.execute_input": "2023-03-31T07:19:36.416289Z",
     "iopub.status.busy": "2023-03-31T07:19:36.415818Z",
     "iopub.status.idle": "2023-03-31T07:19:36.425182Z",
     "shell.execute_reply": "2023-03-31T07:19:36.424024Z"
    },
    "papermill": {
     "duration": 0.021982,
     "end_time": "2023-03-31T07:19:36.428124",
     "exception": false,
     "start_time": "2023-03-31T07:19:36.406142",
     "status": "completed"
    },
    "tags": []
   },
   "outputs": [
    {
     "data": {
      "application/javascript": [
       "parent.postMessage({\"jupyterEvent\": \"custom.exercise_interaction\", \"data\": {\"outcomeType\": 1, \"valueTowardsCompletion\": 0.25, \"interactionType\": 1, \"questionType\": 4, \"questionId\": \"1_CheckDtype\", \"learnToolsVersion\": \"0.3.4\", \"failureMessage\": \"\", \"exceptionClass\": \"\", \"trace\": \"\"}}, \"*\")"
      ],
      "text/plain": [
       "<IPython.core.display.Javascript object>"
      ]
     },
     "metadata": {},
     "output_type": "display_data"
    },
    {
     "data": {
      "text/markdown": [
       "<span style=\"color:#33cc33\">Correct:</span> \n",
       "\n",
       "The \"Date\" column in the `earthquakes` DataFrame does have dates.  The dtype is \"object\"."
      ],
      "text/plain": [
       "Correct: \n",
       "\n",
       "The \"Date\" column in the `earthquakes` DataFrame does have dates.  The dtype is \"object\"."
      ]
     },
     "metadata": {},
     "output_type": "display_data"
    }
   ],
   "source": [
    "# Check your answer (Run this code cell to receive credit!)\n",
    "q1.check()"
   ]
  },
  {
   "cell_type": "code",
   "execution_count": 6,
   "id": "e92dca4d",
   "metadata": {
    "execution": {
     "iopub.execute_input": "2023-03-31T07:19:36.448250Z",
     "iopub.status.busy": "2023-03-31T07:19:36.447566Z",
     "iopub.status.idle": "2023-03-31T07:19:36.452393Z",
     "shell.execute_reply": "2023-03-31T07:19:36.451193Z"
    },
    "papermill": {
     "duration": 0.017485,
     "end_time": "2023-03-31T07:19:36.454833",
     "exception": false,
     "start_time": "2023-03-31T07:19:36.437348",
     "status": "completed"
    },
    "tags": []
   },
   "outputs": [],
   "source": [
    "# Line below will give you a hint\n",
    "#q1.hint()"
   ]
  },
  {
   "cell_type": "markdown",
   "id": "4a3ce47a",
   "metadata": {
    "papermill": {
     "duration": 0.008518,
     "end_time": "2023-03-31T07:19:36.472409",
     "exception": false,
     "start_time": "2023-03-31T07:19:36.463891",
     "status": "completed"
    },
    "tags": []
   },
   "source": [
    "# 2) Convert our date columns to datetime\n",
    "\n",
    "Most of the entries in the \"Date\" column follow the same format: \"month/day/four-digit year\".  However, the entry at index 3378 follows a completely different pattern.  Run the code cell below to see this."
   ]
  },
  {
   "cell_type": "code",
   "execution_count": 7,
   "id": "b6c83d6e",
   "metadata": {
    "execution": {
     "iopub.execute_input": "2023-03-31T07:19:36.491719Z",
     "iopub.status.busy": "2023-03-31T07:19:36.491341Z",
     "iopub.status.idle": "2023-03-31T07:19:36.519655Z",
     "shell.execute_reply": "2023-03-31T07:19:36.518488Z"
    },
    "papermill": {
     "duration": 0.040663,
     "end_time": "2023-03-31T07:19:36.521793",
     "exception": false,
     "start_time": "2023-03-31T07:19:36.481130",
     "status": "completed"
    },
    "tags": []
   },
   "outputs": [
    {
     "data": {
      "text/html": [
       "<div>\n",
       "<style scoped>\n",
       "    .dataframe tbody tr th:only-of-type {\n",
       "        vertical-align: middle;\n",
       "    }\n",
       "\n",
       "    .dataframe tbody tr th {\n",
       "        vertical-align: top;\n",
       "    }\n",
       "\n",
       "    .dataframe thead th {\n",
       "        text-align: right;\n",
       "    }\n",
       "</style>\n",
       "<table border=\"1\" class=\"dataframe\">\n",
       "  <thead>\n",
       "    <tr style=\"text-align: right;\">\n",
       "      <th></th>\n",
       "      <th>Date</th>\n",
       "      <th>Time</th>\n",
       "      <th>Latitude</th>\n",
       "      <th>Longitude</th>\n",
       "      <th>Type</th>\n",
       "      <th>Depth</th>\n",
       "      <th>Depth Error</th>\n",
       "      <th>Depth Seismic Stations</th>\n",
       "      <th>Magnitude</th>\n",
       "      <th>Magnitude Type</th>\n",
       "      <th>...</th>\n",
       "      <th>Magnitude Seismic Stations</th>\n",
       "      <th>Azimuthal Gap</th>\n",
       "      <th>Horizontal Distance</th>\n",
       "      <th>Horizontal Error</th>\n",
       "      <th>Root Mean Square</th>\n",
       "      <th>ID</th>\n",
       "      <th>Source</th>\n",
       "      <th>Location Source</th>\n",
       "      <th>Magnitude Source</th>\n",
       "      <th>Status</th>\n",
       "    </tr>\n",
       "  </thead>\n",
       "  <tbody>\n",
       "    <tr>\n",
       "      <th>3378</th>\n",
       "      <td>1975-02-23T02:58:41.000Z</td>\n",
       "      <td>1975-02-23T02:58:41.000Z</td>\n",
       "      <td>8.017</td>\n",
       "      <td>124.075</td>\n",
       "      <td>Earthquake</td>\n",
       "      <td>623.0</td>\n",
       "      <td>NaN</td>\n",
       "      <td>NaN</td>\n",
       "      <td>5.6</td>\n",
       "      <td>MB</td>\n",
       "      <td>...</td>\n",
       "      <td>NaN</td>\n",
       "      <td>NaN</td>\n",
       "      <td>NaN</td>\n",
       "      <td>NaN</td>\n",
       "      <td>NaN</td>\n",
       "      <td>USP0000A09</td>\n",
       "      <td>US</td>\n",
       "      <td>US</td>\n",
       "      <td>US</td>\n",
       "      <td>Reviewed</td>\n",
       "    </tr>\n",
       "    <tr>\n",
       "      <th>3379</th>\n",
       "      <td>02/23/1975</td>\n",
       "      <td>03:53:36</td>\n",
       "      <td>-21.727</td>\n",
       "      <td>-71.356</td>\n",
       "      <td>Earthquake</td>\n",
       "      <td>33.0</td>\n",
       "      <td>NaN</td>\n",
       "      <td>NaN</td>\n",
       "      <td>5.6</td>\n",
       "      <td>MB</td>\n",
       "      <td>...</td>\n",
       "      <td>NaN</td>\n",
       "      <td>NaN</td>\n",
       "      <td>NaN</td>\n",
       "      <td>NaN</td>\n",
       "      <td>NaN</td>\n",
       "      <td>USP0000A0A</td>\n",
       "      <td>US</td>\n",
       "      <td>US</td>\n",
       "      <td>US</td>\n",
       "      <td>Reviewed</td>\n",
       "    </tr>\n",
       "    <tr>\n",
       "      <th>3380</th>\n",
       "      <td>02/23/1975</td>\n",
       "      <td>07:34:11</td>\n",
       "      <td>-10.879</td>\n",
       "      <td>166.667</td>\n",
       "      <td>Earthquake</td>\n",
       "      <td>33.0</td>\n",
       "      <td>NaN</td>\n",
       "      <td>NaN</td>\n",
       "      <td>5.5</td>\n",
       "      <td>MS</td>\n",
       "      <td>...</td>\n",
       "      <td>NaN</td>\n",
       "      <td>NaN</td>\n",
       "      <td>NaN</td>\n",
       "      <td>NaN</td>\n",
       "      <td>NaN</td>\n",
       "      <td>USP0000A0C</td>\n",
       "      <td>US</td>\n",
       "      <td>US</td>\n",
       "      <td>US</td>\n",
       "      <td>Reviewed</td>\n",
       "    </tr>\n",
       "    <tr>\n",
       "      <th>3381</th>\n",
       "      <td>02/25/1975</td>\n",
       "      <td>05:20:05</td>\n",
       "      <td>-7.388</td>\n",
       "      <td>149.798</td>\n",
       "      <td>Earthquake</td>\n",
       "      <td>33.0</td>\n",
       "      <td>NaN</td>\n",
       "      <td>NaN</td>\n",
       "      <td>5.5</td>\n",
       "      <td>MB</td>\n",
       "      <td>...</td>\n",
       "      <td>NaN</td>\n",
       "      <td>NaN</td>\n",
       "      <td>NaN</td>\n",
       "      <td>NaN</td>\n",
       "      <td>NaN</td>\n",
       "      <td>USP0000A12</td>\n",
       "      <td>US</td>\n",
       "      <td>US</td>\n",
       "      <td>US</td>\n",
       "      <td>Reviewed</td>\n",
       "    </tr>\n",
       "    <tr>\n",
       "      <th>3382</th>\n",
       "      <td>02/26/1975</td>\n",
       "      <td>04:48:55</td>\n",
       "      <td>85.047</td>\n",
       "      <td>97.969</td>\n",
       "      <td>Earthquake</td>\n",
       "      <td>33.0</td>\n",
       "      <td>NaN</td>\n",
       "      <td>NaN</td>\n",
       "      <td>5.6</td>\n",
       "      <td>MS</td>\n",
       "      <td>...</td>\n",
       "      <td>NaN</td>\n",
       "      <td>NaN</td>\n",
       "      <td>NaN</td>\n",
       "      <td>NaN</td>\n",
       "      <td>NaN</td>\n",
       "      <td>USP0000A1H</td>\n",
       "      <td>US</td>\n",
       "      <td>US</td>\n",
       "      <td>US</td>\n",
       "      <td>Reviewed</td>\n",
       "    </tr>\n",
       "  </tbody>\n",
       "</table>\n",
       "<p>5 rows × 21 columns</p>\n",
       "</div>"
      ],
      "text/plain": [
       "                          Date                      Time  Latitude  Longitude  \\\n",
       "3378  1975-02-23T02:58:41.000Z  1975-02-23T02:58:41.000Z     8.017    124.075   \n",
       "3379                02/23/1975                  03:53:36   -21.727    -71.356   \n",
       "3380                02/23/1975                  07:34:11   -10.879    166.667   \n",
       "3381                02/25/1975                  05:20:05    -7.388    149.798   \n",
       "3382                02/26/1975                  04:48:55    85.047     97.969   \n",
       "\n",
       "            Type  Depth  Depth Error  Depth Seismic Stations  Magnitude  \\\n",
       "3378  Earthquake  623.0          NaN                     NaN        5.6   \n",
       "3379  Earthquake   33.0          NaN                     NaN        5.6   \n",
       "3380  Earthquake   33.0          NaN                     NaN        5.5   \n",
       "3381  Earthquake   33.0          NaN                     NaN        5.5   \n",
       "3382  Earthquake   33.0          NaN                     NaN        5.6   \n",
       "\n",
       "     Magnitude Type  ...  Magnitude Seismic Stations  Azimuthal Gap  \\\n",
       "3378             MB  ...                         NaN            NaN   \n",
       "3379             MB  ...                         NaN            NaN   \n",
       "3380             MS  ...                         NaN            NaN   \n",
       "3381             MB  ...                         NaN            NaN   \n",
       "3382             MS  ...                         NaN            NaN   \n",
       "\n",
       "      Horizontal Distance  Horizontal Error  Root Mean Square          ID  \\\n",
       "3378                  NaN               NaN               NaN  USP0000A09   \n",
       "3379                  NaN               NaN               NaN  USP0000A0A   \n",
       "3380                  NaN               NaN               NaN  USP0000A0C   \n",
       "3381                  NaN               NaN               NaN  USP0000A12   \n",
       "3382                  NaN               NaN               NaN  USP0000A1H   \n",
       "\n",
       "     Source Location Source Magnitude Source    Status  \n",
       "3378     US              US               US  Reviewed  \n",
       "3379     US              US               US  Reviewed  \n",
       "3380     US              US               US  Reviewed  \n",
       "3381     US              US               US  Reviewed  \n",
       "3382     US              US               US  Reviewed  \n",
       "\n",
       "[5 rows x 21 columns]"
      ]
     },
     "execution_count": 7,
     "metadata": {},
     "output_type": "execute_result"
    }
   ],
   "source": [
    "earthquakes[3378:3383]"
   ]
  },
  {
   "cell_type": "markdown",
   "id": "5ea270ff",
   "metadata": {
    "papermill": {
     "duration": 0.008603,
     "end_time": "2023-03-31T07:19:36.539488",
     "exception": false,
     "start_time": "2023-03-31T07:19:36.530885",
     "status": "completed"
    },
    "tags": []
   },
   "source": [
    "This does appear to be an issue with data entry: ideally, all entries in the column have the same format.  We can get an idea of how widespread this issue is by checking the length of each entry in the \"Date\" column."
   ]
  },
  {
   "cell_type": "code",
   "execution_count": 8,
   "id": "32ba12e9",
   "metadata": {
    "execution": {
     "iopub.execute_input": "2023-03-31T07:19:36.559426Z",
     "iopub.status.busy": "2023-03-31T07:19:36.558696Z",
     "iopub.status.idle": "2023-03-31T07:19:36.578897Z",
     "shell.execute_reply": "2023-03-31T07:19:36.577705Z"
    },
    "papermill": {
     "duration": 0.032829,
     "end_time": "2023-03-31T07:19:36.581237",
     "exception": false,
     "start_time": "2023-03-31T07:19:36.548408",
     "status": "completed"
    },
    "tags": []
   },
   "outputs": [
    {
     "data": {
      "text/plain": [
       "10    23409\n",
       "24        3\n",
       "Name: Date, dtype: int64"
      ]
     },
     "execution_count": 8,
     "metadata": {},
     "output_type": "execute_result"
    }
   ],
   "source": [
    "date_lengths = earthquakes.Date.str.len()\n",
    "date_lengths.value_counts()"
   ]
  },
  {
   "cell_type": "markdown",
   "id": "c229e3d2",
   "metadata": {
    "papermill": {
     "duration": 0.008951,
     "end_time": "2023-03-31T07:19:36.599395",
     "exception": false,
     "start_time": "2023-03-31T07:19:36.590444",
     "status": "completed"
    },
    "tags": []
   },
   "source": [
    "Looks like there are two more rows that has a date in a different format.  Run the code cell below to obtain the indices corresponding to those rows and print the data."
   ]
  },
  {
   "cell_type": "code",
   "execution_count": 9,
   "id": "b3e050f7",
   "metadata": {
    "execution": {
     "iopub.execute_input": "2023-03-31T07:19:36.620010Z",
     "iopub.status.busy": "2023-03-31T07:19:36.619287Z",
     "iopub.status.idle": "2023-03-31T07:19:36.647641Z",
     "shell.execute_reply": "2023-03-31T07:19:36.646366Z"
    },
    "papermill": {
     "duration": 0.041693,
     "end_time": "2023-03-31T07:19:36.650348",
     "exception": false,
     "start_time": "2023-03-31T07:19:36.608655",
     "status": "completed"
    },
    "tags": []
   },
   "outputs": [
    {
     "name": "stdout",
     "output_type": "stream",
     "text": [
      "Indices with corrupted data: [ 3378  7512 20650]\n"
     ]
    },
    {
     "data": {
      "text/html": [
       "<div>\n",
       "<style scoped>\n",
       "    .dataframe tbody tr th:only-of-type {\n",
       "        vertical-align: middle;\n",
       "    }\n",
       "\n",
       "    .dataframe tbody tr th {\n",
       "        vertical-align: top;\n",
       "    }\n",
       "\n",
       "    .dataframe thead th {\n",
       "        text-align: right;\n",
       "    }\n",
       "</style>\n",
       "<table border=\"1\" class=\"dataframe\">\n",
       "  <thead>\n",
       "    <tr style=\"text-align: right;\">\n",
       "      <th></th>\n",
       "      <th>Date</th>\n",
       "      <th>Time</th>\n",
       "      <th>Latitude</th>\n",
       "      <th>Longitude</th>\n",
       "      <th>Type</th>\n",
       "      <th>Depth</th>\n",
       "      <th>Depth Error</th>\n",
       "      <th>Depth Seismic Stations</th>\n",
       "      <th>Magnitude</th>\n",
       "      <th>Magnitude Type</th>\n",
       "      <th>...</th>\n",
       "      <th>Magnitude Seismic Stations</th>\n",
       "      <th>Azimuthal Gap</th>\n",
       "      <th>Horizontal Distance</th>\n",
       "      <th>Horizontal Error</th>\n",
       "      <th>Root Mean Square</th>\n",
       "      <th>ID</th>\n",
       "      <th>Source</th>\n",
       "      <th>Location Source</th>\n",
       "      <th>Magnitude Source</th>\n",
       "      <th>Status</th>\n",
       "    </tr>\n",
       "  </thead>\n",
       "  <tbody>\n",
       "    <tr>\n",
       "      <th>3378</th>\n",
       "      <td>1975-02-23T02:58:41.000Z</td>\n",
       "      <td>1975-02-23T02:58:41.000Z</td>\n",
       "      <td>8.017</td>\n",
       "      <td>124.075</td>\n",
       "      <td>Earthquake</td>\n",
       "      <td>623.0</td>\n",
       "      <td>NaN</td>\n",
       "      <td>NaN</td>\n",
       "      <td>5.6</td>\n",
       "      <td>MB</td>\n",
       "      <td>...</td>\n",
       "      <td>NaN</td>\n",
       "      <td>NaN</td>\n",
       "      <td>NaN</td>\n",
       "      <td>NaN</td>\n",
       "      <td>NaN</td>\n",
       "      <td>USP0000A09</td>\n",
       "      <td>US</td>\n",
       "      <td>US</td>\n",
       "      <td>US</td>\n",
       "      <td>Reviewed</td>\n",
       "    </tr>\n",
       "    <tr>\n",
       "      <th>7512</th>\n",
       "      <td>1985-04-28T02:53:41.530Z</td>\n",
       "      <td>1985-04-28T02:53:41.530Z</td>\n",
       "      <td>-32.998</td>\n",
       "      <td>-71.766</td>\n",
       "      <td>Earthquake</td>\n",
       "      <td>33.0</td>\n",
       "      <td>NaN</td>\n",
       "      <td>NaN</td>\n",
       "      <td>5.6</td>\n",
       "      <td>MW</td>\n",
       "      <td>...</td>\n",
       "      <td>NaN</td>\n",
       "      <td>NaN</td>\n",
       "      <td>NaN</td>\n",
       "      <td>NaN</td>\n",
       "      <td>1.30</td>\n",
       "      <td>USP0002E81</td>\n",
       "      <td>US</td>\n",
       "      <td>US</td>\n",
       "      <td>HRV</td>\n",
       "      <td>Reviewed</td>\n",
       "    </tr>\n",
       "    <tr>\n",
       "      <th>20650</th>\n",
       "      <td>2011-03-13T02:23:34.520Z</td>\n",
       "      <td>2011-03-13T02:23:34.520Z</td>\n",
       "      <td>36.344</td>\n",
       "      <td>142.344</td>\n",
       "      <td>Earthquake</td>\n",
       "      <td>10.1</td>\n",
       "      <td>13.9</td>\n",
       "      <td>289.0</td>\n",
       "      <td>5.8</td>\n",
       "      <td>MWC</td>\n",
       "      <td>...</td>\n",
       "      <td>NaN</td>\n",
       "      <td>32.3</td>\n",
       "      <td>NaN</td>\n",
       "      <td>NaN</td>\n",
       "      <td>1.06</td>\n",
       "      <td>USP000HWQP</td>\n",
       "      <td>US</td>\n",
       "      <td>US</td>\n",
       "      <td>GCMT</td>\n",
       "      <td>Reviewed</td>\n",
       "    </tr>\n",
       "  </tbody>\n",
       "</table>\n",
       "<p>3 rows × 21 columns</p>\n",
       "</div>"
      ],
      "text/plain": [
       "                           Date                      Time  Latitude  \\\n",
       "3378   1975-02-23T02:58:41.000Z  1975-02-23T02:58:41.000Z     8.017   \n",
       "7512   1985-04-28T02:53:41.530Z  1985-04-28T02:53:41.530Z   -32.998   \n",
       "20650  2011-03-13T02:23:34.520Z  2011-03-13T02:23:34.520Z    36.344   \n",
       "\n",
       "       Longitude        Type  Depth  Depth Error  Depth Seismic Stations  \\\n",
       "3378     124.075  Earthquake  623.0          NaN                     NaN   \n",
       "7512     -71.766  Earthquake   33.0          NaN                     NaN   \n",
       "20650    142.344  Earthquake   10.1         13.9                   289.0   \n",
       "\n",
       "       Magnitude Magnitude Type  ...  Magnitude Seismic Stations  \\\n",
       "3378         5.6             MB  ...                         NaN   \n",
       "7512         5.6             MW  ...                         NaN   \n",
       "20650        5.8            MWC  ...                         NaN   \n",
       "\n",
       "       Azimuthal Gap  Horizontal Distance  Horizontal Error  Root Mean Square  \\\n",
       "3378             NaN                  NaN               NaN               NaN   \n",
       "7512             NaN                  NaN               NaN              1.30   \n",
       "20650           32.3                  NaN               NaN              1.06   \n",
       "\n",
       "               ID Source Location Source Magnitude Source    Status  \n",
       "3378   USP0000A09     US              US               US  Reviewed  \n",
       "7512   USP0002E81     US              US              HRV  Reviewed  \n",
       "20650  USP000HWQP     US              US             GCMT  Reviewed  \n",
       "\n",
       "[3 rows x 21 columns]"
      ]
     },
     "execution_count": 9,
     "metadata": {},
     "output_type": "execute_result"
    }
   ],
   "source": [
    "indices = np.where([date_lengths == 24])[1]\n",
    "print('Indices with corrupted data:', indices)\n",
    "earthquakes.loc[indices]"
   ]
  },
  {
   "cell_type": "markdown",
   "id": "84752994",
   "metadata": {
    "papermill": {
     "duration": 0.009056,
     "end_time": "2023-03-31T07:19:36.668926",
     "exception": false,
     "start_time": "2023-03-31T07:19:36.659870",
     "status": "completed"
    },
    "tags": []
   },
   "source": [
    "Given all of this information, it's your turn to create a new column \"date_parsed\" in the `earthquakes` dataset that has correctly parsed dates in it.  \n",
    "\n",
    "**Note**: When completing this problem, you are allowed to (but are not required to) amend the entries in the \"Date\" and \"Time\" columns.  Do not remove any rows from the dataset."
   ]
  },
  {
   "cell_type": "code",
   "execution_count": 10,
   "id": "2c930a79",
   "metadata": {
    "execution": {
     "iopub.execute_input": "2023-03-31T07:19:36.689969Z",
     "iopub.status.busy": "2023-03-31T07:19:36.689352Z",
     "iopub.status.idle": "2023-03-31T07:19:36.696615Z",
     "shell.execute_reply": "2023-03-31T07:19:36.695740Z"
    },
    "papermill": {
     "duration": 0.020752,
     "end_time": "2023-03-31T07:19:36.699088",
     "exception": false,
     "start_time": "2023-03-31T07:19:36.678336",
     "status": "completed"
    },
    "tags": []
   },
   "outputs": [],
   "source": [
    "earthquakes.loc[3378, \"Date\"] = \"02/23/1975\"\n",
    "earthquakes.loc[7512, \"Date\"] = \"04/28/1985\"\n",
    "earthquakes.loc[20650, \"Date\"] = \"03/13/2011\""
   ]
  },
  {
   "cell_type": "code",
   "execution_count": 11,
   "id": "e679f1dc",
   "metadata": {
    "execution": {
     "iopub.execute_input": "2023-03-31T07:19:36.720048Z",
     "iopub.status.busy": "2023-03-31T07:19:36.719623Z",
     "iopub.status.idle": "2023-03-31T07:19:36.747545Z",
     "shell.execute_reply": "2023-03-31T07:19:36.746295Z"
    },
    "papermill": {
     "duration": 0.041305,
     "end_time": "2023-03-31T07:19:36.749970",
     "exception": false,
     "start_time": "2023-03-31T07:19:36.708665",
     "status": "completed"
    },
    "tags": []
   },
   "outputs": [
    {
     "data": {
      "text/html": [
       "<div>\n",
       "<style scoped>\n",
       "    .dataframe tbody tr th:only-of-type {\n",
       "        vertical-align: middle;\n",
       "    }\n",
       "\n",
       "    .dataframe tbody tr th {\n",
       "        vertical-align: top;\n",
       "    }\n",
       "\n",
       "    .dataframe thead th {\n",
       "        text-align: right;\n",
       "    }\n",
       "</style>\n",
       "<table border=\"1\" class=\"dataframe\">\n",
       "  <thead>\n",
       "    <tr style=\"text-align: right;\">\n",
       "      <th></th>\n",
       "      <th>Date</th>\n",
       "      <th>Time</th>\n",
       "      <th>Latitude</th>\n",
       "      <th>Longitude</th>\n",
       "      <th>Type</th>\n",
       "      <th>Depth</th>\n",
       "      <th>Depth Error</th>\n",
       "      <th>Depth Seismic Stations</th>\n",
       "      <th>Magnitude</th>\n",
       "      <th>Magnitude Type</th>\n",
       "      <th>...</th>\n",
       "      <th>Magnitude Seismic Stations</th>\n",
       "      <th>Azimuthal Gap</th>\n",
       "      <th>Horizontal Distance</th>\n",
       "      <th>Horizontal Error</th>\n",
       "      <th>Root Mean Square</th>\n",
       "      <th>ID</th>\n",
       "      <th>Source</th>\n",
       "      <th>Location Source</th>\n",
       "      <th>Magnitude Source</th>\n",
       "      <th>Status</th>\n",
       "    </tr>\n",
       "  </thead>\n",
       "  <tbody>\n",
       "    <tr>\n",
       "      <th>3378</th>\n",
       "      <td>02/23/1975</td>\n",
       "      <td>1975-02-23T02:58:41.000Z</td>\n",
       "      <td>8.017</td>\n",
       "      <td>124.075</td>\n",
       "      <td>Earthquake</td>\n",
       "      <td>623.0</td>\n",
       "      <td>NaN</td>\n",
       "      <td>NaN</td>\n",
       "      <td>5.6</td>\n",
       "      <td>MB</td>\n",
       "      <td>...</td>\n",
       "      <td>NaN</td>\n",
       "      <td>NaN</td>\n",
       "      <td>NaN</td>\n",
       "      <td>NaN</td>\n",
       "      <td>NaN</td>\n",
       "      <td>USP0000A09</td>\n",
       "      <td>US</td>\n",
       "      <td>US</td>\n",
       "      <td>US</td>\n",
       "      <td>Reviewed</td>\n",
       "    </tr>\n",
       "    <tr>\n",
       "      <th>7512</th>\n",
       "      <td>04/28/1985</td>\n",
       "      <td>1985-04-28T02:53:41.530Z</td>\n",
       "      <td>-32.998</td>\n",
       "      <td>-71.766</td>\n",
       "      <td>Earthquake</td>\n",
       "      <td>33.0</td>\n",
       "      <td>NaN</td>\n",
       "      <td>NaN</td>\n",
       "      <td>5.6</td>\n",
       "      <td>MW</td>\n",
       "      <td>...</td>\n",
       "      <td>NaN</td>\n",
       "      <td>NaN</td>\n",
       "      <td>NaN</td>\n",
       "      <td>NaN</td>\n",
       "      <td>1.30</td>\n",
       "      <td>USP0002E81</td>\n",
       "      <td>US</td>\n",
       "      <td>US</td>\n",
       "      <td>HRV</td>\n",
       "      <td>Reviewed</td>\n",
       "    </tr>\n",
       "    <tr>\n",
       "      <th>20650</th>\n",
       "      <td>03/13/2011</td>\n",
       "      <td>2011-03-13T02:23:34.520Z</td>\n",
       "      <td>36.344</td>\n",
       "      <td>142.344</td>\n",
       "      <td>Earthquake</td>\n",
       "      <td>10.1</td>\n",
       "      <td>13.9</td>\n",
       "      <td>289.0</td>\n",
       "      <td>5.8</td>\n",
       "      <td>MWC</td>\n",
       "      <td>...</td>\n",
       "      <td>NaN</td>\n",
       "      <td>32.3</td>\n",
       "      <td>NaN</td>\n",
       "      <td>NaN</td>\n",
       "      <td>1.06</td>\n",
       "      <td>USP000HWQP</td>\n",
       "      <td>US</td>\n",
       "      <td>US</td>\n",
       "      <td>GCMT</td>\n",
       "      <td>Reviewed</td>\n",
       "    </tr>\n",
       "  </tbody>\n",
       "</table>\n",
       "<p>3 rows × 21 columns</p>\n",
       "</div>"
      ],
      "text/plain": [
       "             Date                      Time  Latitude  Longitude        Type  \\\n",
       "3378   02/23/1975  1975-02-23T02:58:41.000Z     8.017    124.075  Earthquake   \n",
       "7512   04/28/1985  1985-04-28T02:53:41.530Z   -32.998    -71.766  Earthquake   \n",
       "20650  03/13/2011  2011-03-13T02:23:34.520Z    36.344    142.344  Earthquake   \n",
       "\n",
       "       Depth  Depth Error  Depth Seismic Stations  Magnitude Magnitude Type  \\\n",
       "3378   623.0          NaN                     NaN        5.6             MB   \n",
       "7512    33.0          NaN                     NaN        5.6             MW   \n",
       "20650   10.1         13.9                   289.0        5.8            MWC   \n",
       "\n",
       "       ...  Magnitude Seismic Stations  Azimuthal Gap  Horizontal Distance  \\\n",
       "3378   ...                         NaN            NaN                  NaN   \n",
       "7512   ...                         NaN            NaN                  NaN   \n",
       "20650  ...                         NaN           32.3                  NaN   \n",
       "\n",
       "       Horizontal Error  Root Mean Square          ID Source Location Source  \\\n",
       "3378                NaN               NaN  USP0000A09     US              US   \n",
       "7512                NaN              1.30  USP0002E81     US              US   \n",
       "20650               NaN              1.06  USP000HWQP     US              US   \n",
       "\n",
       "      Magnitude Source    Status  \n",
       "3378                US  Reviewed  \n",
       "7512               HRV  Reviewed  \n",
       "20650             GCMT  Reviewed  \n",
       "\n",
       "[3 rows x 21 columns]"
      ]
     },
     "execution_count": 11,
     "metadata": {},
     "output_type": "execute_result"
    }
   ],
   "source": [
    "earthquakes.loc[indices]"
   ]
  },
  {
   "cell_type": "code",
   "execution_count": 12,
   "id": "3b5360d8",
   "metadata": {
    "execution": {
     "iopub.execute_input": "2023-03-31T07:19:36.772005Z",
     "iopub.status.busy": "2023-03-31T07:19:36.771536Z",
     "iopub.status.idle": "2023-03-31T07:19:36.790960Z",
     "shell.execute_reply": "2023-03-31T07:19:36.789707Z"
    },
    "papermill": {
     "duration": 0.033612,
     "end_time": "2023-03-31T07:19:36.793583",
     "exception": false,
     "start_time": "2023-03-31T07:19:36.759971",
     "status": "completed"
    },
    "tags": []
   },
   "outputs": [
    {
     "data": {
      "text/plain": [
       "10    23412\n",
       "Name: Date, dtype: int64"
      ]
     },
     "execution_count": 12,
     "metadata": {},
     "output_type": "execute_result"
    }
   ],
   "source": [
    "date_lengths = earthquakes.Date.str.len()\n",
    "date_lengths.value_counts()"
   ]
  },
  {
   "cell_type": "code",
   "execution_count": 13,
   "id": "b20dace2",
   "metadata": {
    "execution": {
     "iopub.execute_input": "2023-03-31T07:19:36.816010Z",
     "iopub.status.busy": "2023-03-31T07:19:36.815185Z",
     "iopub.status.idle": "2023-03-31T07:19:36.866158Z",
     "shell.execute_reply": "2023-03-31T07:19:36.864872Z"
    },
    "papermill": {
     "duration": 0.064727,
     "end_time": "2023-03-31T07:19:36.868811",
     "exception": false,
     "start_time": "2023-03-31T07:19:36.804084",
     "status": "completed"
    },
    "tags": []
   },
   "outputs": [
    {
     "data": {
      "application/javascript": [
       "parent.postMessage({\"jupyterEvent\": \"custom.exercise_interaction\", \"data\": {\"outcomeType\": 1, \"valueTowardsCompletion\": 0.25, \"interactionType\": 1, \"questionType\": 2, \"questionId\": \"2_ConvertToDatetime\", \"learnToolsVersion\": \"0.3.4\", \"failureMessage\": \"\", \"exceptionClass\": \"\", \"trace\": \"\"}}, \"*\")"
      ],
      "text/plain": [
       "<IPython.core.display.Javascript object>"
      ]
     },
     "metadata": {},
     "output_type": "display_data"
    },
    {
     "data": {
      "text/markdown": [
       "<span style=\"color:#33cc33\">Correct</span>"
      ],
      "text/plain": [
       "Correct"
      ]
     },
     "metadata": {},
     "output_type": "display_data"
    }
   ],
   "source": [
    "# TODO: Your code here\n",
    "earthquakes['date_parsed'] = pd.to_datetime(earthquakes['Date'], format='%m/%d/%Y')\n",
    "\n",
    "# Check your answer\n",
    "q2.check()"
   ]
  },
  {
   "cell_type": "code",
   "execution_count": 14,
   "id": "5288f706",
   "metadata": {
    "execution": {
     "iopub.execute_input": "2023-03-31T07:19:36.891058Z",
     "iopub.status.busy": "2023-03-31T07:19:36.890264Z",
     "iopub.status.idle": "2023-03-31T07:19:36.904302Z",
     "shell.execute_reply": "2023-03-31T07:19:36.903179Z"
    },
    "papermill": {
     "duration": 0.027566,
     "end_time": "2023-03-31T07:19:36.906423",
     "exception": false,
     "start_time": "2023-03-31T07:19:36.878857",
     "status": "completed"
    },
    "tags": []
   },
   "outputs": [
    {
     "data": {
      "application/javascript": [
       "parent.postMessage({\"jupyterEvent\": \"custom.exercise_interaction\", \"data\": {\"interactionType\": 2, \"questionType\": 2, \"questionId\": \"2_ConvertToDatetime\", \"learnToolsVersion\": \"0.3.4\", \"valueTowardsCompletion\": 0.0, \"failureMessage\": \"\", \"exceptionClass\": \"\", \"trace\": \"\", \"outcomeType\": 4}}, \"*\")"
      ],
      "text/plain": [
       "<IPython.core.display.Javascript object>"
      ]
     },
     "metadata": {},
     "output_type": "display_data"
    },
    {
     "data": {
      "text/markdown": [
       "<span style=\"color:#3366cc\">Hint:</span> Since there are only three rows with a fancy type, you might consider manually editing them. For instance, you can begin by setting `earthquakes.loc[3378, \"Date\"] = \"02/23/1975\"`."
      ],
      "text/plain": [
       "Hint: Since there are only three rows with a fancy type, you might consider manually editing them. For instance, you can begin by setting `earthquakes.loc[3378, \"Date\"] = \"02/23/1975\"`."
      ]
     },
     "metadata": {},
     "output_type": "display_data"
    },
    {
     "data": {
      "application/javascript": [
       "parent.postMessage({\"jupyterEvent\": \"custom.exercise_interaction\", \"data\": {\"interactionType\": 3, \"questionType\": 2, \"questionId\": \"2_ConvertToDatetime\", \"learnToolsVersion\": \"0.3.4\", \"valueTowardsCompletion\": 0.0, \"failureMessage\": \"\", \"exceptionClass\": \"\", \"trace\": \"\", \"outcomeType\": 4}}, \"*\")"
      ],
      "text/plain": [
       "<IPython.core.display.Javascript object>"
      ]
     },
     "metadata": {},
     "output_type": "display_data"
    },
    {
     "data": {
      "text/markdown": [
       "<span style=\"color:#33cc99\">Solution:</span> \n",
       "```python\n",
       "\n",
       "earthquakes.loc[3378, \"Date\"] = \"02/23/1975\"\n",
       "earthquakes.loc[7512, \"Date\"] = \"04/28/1985\"\n",
       "earthquakes.loc[20650, \"Date\"] = \"03/13/2011\"\n",
       "earthquakes['date_parsed'] = pd.to_datetime(earthquakes['Date'], format=\"%m/%d/%Y\")\n",
       "\n",
       "```"
      ],
      "text/plain": [
       "Solution: \n",
       "```python\n",
       "\n",
       "earthquakes.loc[3378, \"Date\"] = \"02/23/1975\"\n",
       "earthquakes.loc[7512, \"Date\"] = \"04/28/1985\"\n",
       "earthquakes.loc[20650, \"Date\"] = \"03/13/2011\"\n",
       "earthquakes['date_parsed'] = pd.to_datetime(earthquakes['Date'], format=\"%m/%d/%Y\")\n",
       "\n",
       "```"
      ]
     },
     "metadata": {},
     "output_type": "display_data"
    }
   ],
   "source": [
    "# Lines below will give you a hint or solution code\n",
    "q2.hint()\n",
    "q2.solution()"
   ]
  },
  {
   "cell_type": "markdown",
   "id": "349a5b0f",
   "metadata": {
    "papermill": {
     "duration": 0.010035,
     "end_time": "2023-03-31T07:19:36.926889",
     "exception": false,
     "start_time": "2023-03-31T07:19:36.916854",
     "status": "completed"
    },
    "tags": []
   },
   "source": [
    "# 3) Select the day of the month\n",
    "\n",
    "Create a Pandas Series `day_of_month_earthquakes` containing the day of the month from the \"date_parsed\" column."
   ]
  },
  {
   "cell_type": "code",
   "execution_count": 15,
   "id": "fa55ea49",
   "metadata": {
    "execution": {
     "iopub.execute_input": "2023-03-31T07:19:36.949544Z",
     "iopub.status.busy": "2023-03-31T07:19:36.949152Z",
     "iopub.status.idle": "2023-03-31T07:19:36.961085Z",
     "shell.execute_reply": "2023-03-31T07:19:36.959994Z"
    },
    "papermill": {
     "duration": 0.02621,
     "end_time": "2023-03-31T07:19:36.963541",
     "exception": false,
     "start_time": "2023-03-31T07:19:36.937331",
     "status": "completed"
    },
    "tags": []
   },
   "outputs": [
    {
     "data": {
      "application/javascript": [
       "parent.postMessage({\"jupyterEvent\": \"custom.exercise_interaction\", \"data\": {\"outcomeType\": 1, \"valueTowardsCompletion\": 0.25, \"interactionType\": 1, \"questionType\": 1, \"questionId\": \"3_DayOfMonth\", \"learnToolsVersion\": \"0.3.4\", \"failureMessage\": \"\", \"exceptionClass\": \"\", \"trace\": \"\"}}, \"*\")"
      ],
      "text/plain": [
       "<IPython.core.display.Javascript object>"
      ]
     },
     "metadata": {},
     "output_type": "display_data"
    },
    {
     "data": {
      "text/markdown": [
       "<span style=\"color:#33cc33\">Correct</span>"
      ],
      "text/plain": [
       "Correct"
      ]
     },
     "metadata": {},
     "output_type": "display_data"
    }
   ],
   "source": [
    "# try to get the day of the month from the date column\n",
    "day_of_month_earthquakes = earthquakes['date_parsed'].dt.day\n",
    "\n",
    "# Check your answer\n",
    "q3.check()"
   ]
  },
  {
   "cell_type": "code",
   "execution_count": 16,
   "id": "80e549b2",
   "metadata": {
    "execution": {
     "iopub.execute_input": "2023-03-31T07:19:36.986634Z",
     "iopub.status.busy": "2023-03-31T07:19:36.986248Z",
     "iopub.status.idle": "2023-03-31T07:19:36.994854Z",
     "shell.execute_reply": "2023-03-31T07:19:36.993782Z"
    },
    "papermill": {
     "duration": 0.023028,
     "end_time": "2023-03-31T07:19:36.997243",
     "exception": false,
     "start_time": "2023-03-31T07:19:36.974215",
     "status": "completed"
    },
    "tags": []
   },
   "outputs": [
    {
     "data": {
      "text/plain": [
       "11    905\n",
       "17    848\n",
       "23    838\n",
       "20    825\n",
       "16    807\n",
       "14    805\n",
       "26    801\n",
       "28    800\n",
       "12    793\n",
       "7     783\n",
       "3     782\n",
       "21    776\n",
       "15    775\n",
       "18    773\n",
       "1     773\n",
       "5     769\n",
       "10    766\n",
       "13    764\n",
       "25    763\n",
       "19    763\n",
       "24    760\n",
       "6     746\n",
       "4     732\n",
       "8     732\n",
       "9     714\n",
       "27    711\n",
       "2     706\n",
       "22    705\n",
       "29    679\n",
       "30    672\n",
       "31    346\n",
       "Name: date_parsed, dtype: int64"
      ]
     },
     "execution_count": 16,
     "metadata": {},
     "output_type": "execute_result"
    }
   ],
   "source": [
    "day_of_month_earthquakes.value_counts()"
   ]
  },
  {
   "cell_type": "code",
   "execution_count": 17,
   "id": "ed0fdb8f",
   "metadata": {
    "execution": {
     "iopub.execute_input": "2023-03-31T07:19:37.021448Z",
     "iopub.status.busy": "2023-03-31T07:19:37.020281Z",
     "iopub.status.idle": "2023-03-31T07:19:37.025209Z",
     "shell.execute_reply": "2023-03-31T07:19:37.024086Z"
    },
    "papermill": {
     "duration": 0.019408,
     "end_time": "2023-03-31T07:19:37.027599",
     "exception": false,
     "start_time": "2023-03-31T07:19:37.008191",
     "status": "completed"
    },
    "tags": []
   },
   "outputs": [],
   "source": [
    "# Lines below will give you a hint or solution code\n",
    "#q3.hint()\n",
    "#q3.solution()"
   ]
  },
  {
   "cell_type": "markdown",
   "id": "b36ac94a",
   "metadata": {
    "papermill": {
     "duration": 0.010542,
     "end_time": "2023-03-31T07:19:37.049208",
     "exception": false,
     "start_time": "2023-03-31T07:19:37.038666",
     "status": "completed"
    },
    "tags": []
   },
   "source": [
    "# 4) Plot the day of the month to check the date parsing\n",
    "\n",
    "Plot the days of the month from your earthquake dataset."
   ]
  },
  {
   "cell_type": "code",
   "execution_count": 18,
   "id": "729b3c10",
   "metadata": {
    "execution": {
     "iopub.execute_input": "2023-03-31T07:19:37.072747Z",
     "iopub.status.busy": "2023-03-31T07:19:37.072329Z",
     "iopub.status.idle": "2023-03-31T07:19:37.375808Z",
     "shell.execute_reply": "2023-03-31T07:19:37.374866Z"
    },
    "papermill": {
     "duration": 0.318145,
     "end_time": "2023-03-31T07:19:37.378310",
     "exception": false,
     "start_time": "2023-03-31T07:19:37.060165",
     "status": "completed"
    },
    "tags": []
   },
   "outputs": [
    {
     "name": "stderr",
     "output_type": "stream",
     "text": [
      "/opt/conda/lib/python3.7/site-packages/ipykernel_launcher.py:4: UserWarning: \n",
      "\n",
      "`distplot` is a deprecated function and will be removed in seaborn v0.14.0.\n",
      "\n",
      "Please adapt your code to use either `displot` (a figure-level function with\n",
      "similar flexibility) or `histplot` (an axes-level function for histograms).\n",
      "\n",
      "For a guide to updating your code to use the new functions, please see\n",
      "https://gist.github.com/mwaskom/de44147ed2974457ad6372750bbe5751\n",
      "\n",
      "  after removing the cwd from sys.path.\n"
     ]
    },
    {
     "data": {
      "text/plain": [
       "<AxesSubplot:xlabel='date_parsed'>"
      ]
     },
     "execution_count": 18,
     "metadata": {},
     "output_type": "execute_result"
    },
    {
     "data": {
      "image/png": "[encoded data removed]",
      "text/plain": [
       "<Figure size 640x480 with 1 Axes>"
      ]
     },
     "metadata": {},
     "output_type": "display_data"
    }
   ],
   "source": [
    "# TODO: Your code here!\n",
    "day_of_month_earthquakes = day_of_month_earthquakes.dropna()\n",
    "\n",
    "sns.distplot(day_of_month_earthquakes, kde=False, bins=31)"
   ]
  },
  {
   "cell_type": "markdown",
   "id": "c15e73c1",
   "metadata": {
    "papermill": {
     "duration": 0.012172,
     "end_time": "2023-03-31T07:19:37.402353",
     "exception": false,
     "start_time": "2023-03-31T07:19:37.390181",
     "status": "completed"
    },
    "tags": []
   },
   "source": [
    "Does the graph make sense to you?"
   ]
  },
  {
   "cell_type": "code",
   "execution_count": 19,
   "id": "58fd0e05",
   "metadata": {
    "execution": {
     "iopub.execute_input": "2023-03-31T07:19:37.428607Z",
     "iopub.status.busy": "2023-03-31T07:19:37.427447Z",
     "iopub.status.idle": "2023-03-31T07:19:37.437360Z",
     "shell.execute_reply": "2023-03-31T07:19:37.436255Z"
    },
    "papermill": {
     "duration": 0.02526,
     "end_time": "2023-03-31T07:19:37.439736",
     "exception": false,
     "start_time": "2023-03-31T07:19:37.414476",
     "status": "completed"
    },
    "tags": []
   },
   "outputs": [
    {
     "data": {
      "application/javascript": [
       "parent.postMessage({\"jupyterEvent\": \"custom.exercise_interaction\", \"data\": {\"outcomeType\": 1, \"valueTowardsCompletion\": 0.25, \"interactionType\": 1, \"questionType\": 4, \"questionId\": \"4_PlotDayOfMonth\", \"learnToolsVersion\": \"0.3.4\", \"failureMessage\": \"\", \"exceptionClass\": \"\", \"trace\": \"\"}}, \"*\")"
      ],
      "text/plain": [
       "<IPython.core.display.Javascript object>"
      ]
     },
     "metadata": {},
     "output_type": "display_data"
    },
    {
     "data": {
      "text/markdown": [
       "<span style=\"color:#33cc33\">Correct:</span> \n",
       "\n",
       "The graph should make sense: it shows a relatively even distribution in days of the month,which is what we would expect."
      ],
      "text/plain": [
       "Correct: \n",
       "\n",
       "The graph should make sense: it shows a relatively even distribution in days of the month,which is what we would expect."
      ]
     },
     "metadata": {},
     "output_type": "display_data"
    }
   ],
   "source": [
    "# Check your answer (Run this code cell to receive credit!)\n",
    "q4.check()"
   ]
  },
  {
   "cell_type": "code",
   "execution_count": 20,
   "id": "63ab6022",
   "metadata": {
    "execution": {
     "iopub.execute_input": "2023-03-31T07:19:37.466001Z",
     "iopub.status.busy": "2023-03-31T07:19:37.465277Z",
     "iopub.status.idle": "2023-03-31T07:19:37.475270Z",
     "shell.execute_reply": "2023-03-31T07:19:37.473866Z"
    },
    "papermill": {
     "duration": 0.026415,
     "end_time": "2023-03-31T07:19:37.478048",
     "exception": false,
     "start_time": "2023-03-31T07:19:37.451633",
     "status": "completed"
    },
    "tags": []
   },
   "outputs": [
    {
     "data": {
      "application/javascript": [
       "parent.postMessage({\"jupyterEvent\": \"custom.exercise_interaction\", \"data\": {\"interactionType\": 2, \"questionType\": 4, \"questionId\": \"4_PlotDayOfMonth\", \"learnToolsVersion\": \"0.3.4\", \"valueTowardsCompletion\": 0.0, \"failureMessage\": \"\", \"exceptionClass\": \"\", \"trace\": \"\", \"outcomeType\": 4}}, \"*\")"
      ],
      "text/plain": [
       "<IPython.core.display.Javascript object>"
      ]
     },
     "metadata": {},
     "output_type": "display_data"
    },
    {
     "data": {
      "text/markdown": [
       "<span style=\"color:#3366cc\">Hint:</span> \n",
       "Remove the missing values, and then use `sns.distplot()` as follows:\n",
       "\n",
       "```python\n",
       "# remove na's\n",
       "day_of_month_earthquakes = day_of_month_earthquakes.dropna()\n",
       "\n",
       "# plot the day of the month\n",
       "sns.distplot(day_of_month_earthquakes, kde=False, bins=31)\n",
       "```\n",
       "\n"
      ],
      "text/plain": [
       "Hint: \n",
       "Remove the missing values, and then use `sns.distplot()` as follows:\n",
       "\n",
       "```python\n",
       "# remove na's\n",
       "day_of_month_earthquakes = day_of_month_earthquakes.dropna()\n",
       "\n",
       "# plot the day of the month\n",
       "sns.distplot(day_of_month_earthquakes, kde=False, bins=31)\n",
       "```\n"
      ]
     },
     "metadata": {},
     "output_type": "display_data"
    }
   ],
   "source": [
    "# Line below will give you a hint\n",
    "q4.hint()"
   ]
  },
  {
   "cell_type": "markdown",
   "id": "1b16dd5a",
   "metadata": {
    "papermill": {
     "duration": 0.011743,
     "end_time": "2023-03-31T07:19:37.502146",
     "exception": false,
     "start_time": "2023-03-31T07:19:37.490403",
     "status": "completed"
    },
    "tags": []
   },
   "source": [
    "# (Optional) Bonus Challenge\n",
    "\n",
    "For an extra challenge, you'll work with a [Smithsonian dataset](https://www.kaggle.com/smithsonian/volcanic-eruptions) that documents Earth's volcanoes and their eruptive history over the past 10,000 years \n",
    "\n",
    "Run the next code cell to load the data."
   ]
  },
  {
   "cell_type": "code",
   "execution_count": 21,
   "id": "1bdafb2f",
   "metadata": {
    "collapsed": true,
    "execution": {
     "iopub.execute_input": "2023-03-31T07:19:37.528526Z",
     "iopub.status.busy": "2023-03-31T07:19:37.527794Z",
     "iopub.status.idle": "2023-03-31T07:19:37.557130Z",
     "shell.execute_reply": "2023-03-31T07:19:37.556052Z"
    },
    "jupyter": {
     "outputs_hidden": true
    },
    "papermill": {
     "duration": 0.045817,
     "end_time": "2023-03-31T07:19:37.559982",
     "exception": false,
     "start_time": "2023-03-31T07:19:37.514165",
     "status": "completed"
    },
    "tags": []
   },
   "outputs": [],
   "source": [
    "volcanos = pd.read_csv(\"../input/volcanic-eruptions/database.csv\")"
   ]
  },
  {
   "cell_type": "markdown",
   "id": "c04e1f4d",
   "metadata": {
    "papermill": {
     "duration": 0.012092,
     "end_time": "2023-03-31T07:19:37.584588",
     "exception": false,
     "start_time": "2023-03-31T07:19:37.572496",
     "status": "completed"
    },
    "tags": []
   },
   "source": [
    "Try parsing the column \"Last Known Eruption\" from the `volcanos` dataframe. This column contains a mixture of text (\"Unknown\") and years both before the common era (BCE, also known as BC) and in the common era (CE, also known as AD)."
   ]
  },
  {
   "cell_type": "code",
   "execution_count": 22,
   "id": "3d282166",
   "metadata": {
    "execution": {
     "iopub.execute_input": "2023-03-31T07:19:37.611313Z",
     "iopub.status.busy": "2023-03-31T07:19:37.610213Z",
     "iopub.status.idle": "2023-03-31T07:19:37.621474Z",
     "shell.execute_reply": "2023-03-31T07:19:37.620209Z"
    },
    "papermill": {
     "duration": 0.027547,
     "end_time": "2023-03-31T07:19:37.624229",
     "exception": false,
     "start_time": "2023-03-31T07:19:37.596682",
     "status": "completed"
    },
    "tags": []
   },
   "outputs": [
    {
     "data": {
      "text/plain": [
       "764     Unknown\n",
       "1069    1996 CE\n",
       "34      1855 CE\n",
       "489     2016 CE\n",
       "9       1302 CE\n",
       "Name: Last Known Eruption, dtype: object"
      ]
     },
     "execution_count": 22,
     "metadata": {},
     "output_type": "execute_result"
    }
   ],
   "source": [
    "volcanos['Last Known Eruption'].sample(5)"
   ]
  },
  {
   "cell_type": "markdown",
   "id": "0974aeb5",
   "metadata": {
    "papermill": {
     "duration": 0.011998,
     "end_time": "2023-03-31T07:19:37.648766",
     "exception": false,
     "start_time": "2023-03-31T07:19:37.636768",
     "status": "completed"
    },
    "tags": []
   },
   "source": [
    "# (Optional) More practice\n",
    "\n",
    "If you're interested in graphing time series, [check out this tutorial](https://www.kaggle.com/residentmario/time-series-plotting-optional).\n",
    "\n",
    "You can also look into passing columns that you know have dates in them  the `parse_dates` argument in `read_csv`. (The documention [is here](https://pandas.pydata.org/pandas-docs/stable/generated/pandas.read_csv.html).) Do note that this method can be very slow, but depending on your needs it may sometimes be handy to use.\n",
    "\n",
    "# Keep going\n",
    "\n",
    "In the next lesson, learn how to [**work with character encodings**](https://www.kaggle.com/alexisbcook/character-encodings)."
   ]
  },
  {
   "cell_type": "markdown",
   "id": "16b3c766",
   "metadata": {
    "papermill": {
     "duration": 0.01204,
     "end_time": "2023-03-31T07:19:37.673142",
     "exception": false,
     "start_time": "2023-03-31T07:19:37.661102",
     "status": "completed"
    },
    "tags": []
   },
   "source": [
    "---\n",
    "\n",
    "\n",
    "\n",
    "\n",
    "*Have questions or comments? Visit the [course discussion forum](https://www.kaggle.com/learn/data-cleaning/discussion) to chat with other learners.*"
   ]
  }
 ],
 "metadata": {
  "kernelspec": {
   "display_name": "Python 3",
   "language": "python",
   "name": "python3"
  },
  "language_info": {
   "codemirror_mode": {
    "name": "ipython",
    "version": 3
   },
   "file_extension": ".py",
   "mimetype": "text/x-python",
   "name": "python",
   "nbconvert_exporter": "python",
   "pygments_lexer": "ipython3",
   "version": "3.7.12"
  },
  "papermill": {
   "default_parameters": {},
   "duration": 14.017187,
   "end_time": "2023-03-31T07:19:38.408654",
   "environment_variables": {},
   "exception": null,
   "input_path": "__notebook__.ipynb",
   "output_path": "__notebook__.ipynb",
   "parameters": {},
   "start_time": "2023-03-31T07:19:24.391467",
   "version": "2.4.0"
  }
 },
 "nbformat": 4,
 "nbformat_minor": 5
}
